{
 "cells": [
  {
   "cell_type": "code",
   "execution_count": 114,
   "outputs": [
    {
     "data": {
      "text/plain": "<IPython.core.display.HTML object>",
      "text/html": "<script>\ncode_show=true; \nfunction code_toggle() {\n if (code_show){\n $('div.input').hide();\n } else {\n $('div.input').show();\n }\n code_show = !code_show\n} \n$( document ).ready(code_toggle);\n</script>\n<form action=\"javascript:code_toggle()\"><input type=\"submit\" value=\"Click here to toggle on/off the raw code.\"></form>"
     },
     "metadata": {},
     "output_type": "execute_result",
     "execution_count": 114
    }
   ],
   "source": [
    "HTML('''<script>\n",
    "code_show=true; \n",
    "function code_toggle() {\n",
    " if (code_show){\n",
    " $('div.input').hide();\n",
    " } else {\n",
    " $('div.input').show();\n",
    " }\n",
    " code_show = !code_show\n",
    "} \n",
    "$( document ).ready(code_toggle);\n",
    "</script>\n",
    "<form action=\"javascript:code_toggle()\"><input type=\"submit\" value=\"Click here to toggle on/off the raw code.\"></form>''')\n"
   ],
   "metadata": {
    "collapsed": false,
    "pycharm": {
     "name": "#%%\n",
     "is_executing": false
    }
   }
  },
  {
   "cell_type": "code",
   "execution_count": null,
   "outputs": [],
   "source": [
    "from __future__ import print_function\n",
    "from IPython.display import HTML\n",
    "from ipywidgets import interact, interactive, fixed, interact_manual\n",
    "import ipywidgets as widgets\n",
    "\n",
    "from ApplicantPool import ApplicantPool\n"
   ],
   "metadata": {
    "collapsed": false,
    "pycharm": {
     "name": "#%%\n"
    }
   }
  },
  {
   "cell_type": "markdown",
   "metadata": {
    "collapsed": true,
    "pycharm": {
     "name": "#%% md\n",
     "is_executing": false
    }
   },
   "source": [
    "## Hiring great data scientists\n",
    "\n",
    "This simulator uses a 'look before leaping' algorithm to try and optimise the process of hiring a great data scientist. There are a number of constraints that apply, the algorithm will:\n",
    "\n",
    "- Allow a configurable number of data scientists to be specified for each interview campaign.\n",
    "- Allow the number of campaigns that are simulated to be specified.\n",
    "- Only rank each applicant with respect to the other candidates that have already been interviewed. \n",
    "- Assign each applicant a number that defines how they are rated in relation to each other. \n",
    "- Randomly order the applicants in each recruitment campaign.\n",
    "- Have no other information about each applicant. It can only relate each of the interviewees to each other.\n",
    "- Must hire an applicant immediately after their interview finishes or accept that they are gone forever. \n",
    "\n"
   ]
  },
  {
   "cell_type": "code",
   "execution_count": 249,
   "outputs": [
    {
     "data": {
      "text/plain": "VBox(children=(Label(value='Set the number of campaigns and applicants in each campaign.'), IntSlider(value=20…",
      "application/vnd.jupyter.widget-view+json": {
       "version_major": 2,
       "version_minor": 0,
       "model_id": "f8ea561077a94833883ed050d5b7ce4a"
      }
     },
     "metadata": {},
     "output_type": "display_data"
    }
   ],
   "source": [
    "from ipywidgets import HBox, VBox, Label, IntSlider, Button, Text, Output, RadioButtons\n",
    "\n",
    "verbosity = widgets.RadioButtons(\n",
    "    options=['Summarised output', 'Detailed output'],\n",
    "#     value='pineapple',\n",
    "    description='Pizza topping:',\n",
    "    disabled=False\n",
    ")\n",
    "\n",
    "\n",
    "main_output = Output()\n",
    "settings_label = Label('Set the number of campaigns and the applicants in each campaign.')\n",
    "campaign_slider = IntSlider(min=100, max=1000, step=20,value=200, description='Cycles')\n",
    "applicant_slider = IntSlider(min=20, max=300, step=1,value=30, description='Applicants')\n",
    "execute_button = Button(description='Run the campaigns')\n",
    "VBox([settings_label, campaign_slider, applicant_slider, verbosity, execute_button, main_output])\n"
   ],
   "metadata": {
    "collapsed": false,
    "pycharm": {
     "name": "#%%\n",
     "is_executing": false
    }
   }
  },
  {
   "cell_type": "code",
   "execution_count": 269,
   "outputs": [
    {
     "traceback": [
      "\u001b[1;36m  File \u001b[1;32m\"<ipython-input-269-26fe68769b40>\"\u001b[1;36m, line \u001b[1;32m4\u001b[0m\n\u001b[1;33m    \u001b[0m\n\u001b[1;37m    ^\u001b[0m\n\u001b[1;31mSyntaxError\u001b[0m\u001b[1;31m:\u001b[0m unexpected EOF while parsing\n"
     ],
     "ename": "SyntaxError",
     "evalue": "unexpected EOF while parsing (<ipython-input-269-26fe68769b40>, line 4)",
     "output_type": "error"
    }
   ],
   "source": [
    "def run_campaigns(applicants, campaigns):\n",
    "    \n",
    "    top_applicants_chosen = 0\n",
    "    \n",
    "    interview_runs = [ApplicantPool(applicants) for count in range(campaigns)]\n",
    "\n",
    "    for i in interview_runs:\n",
    "        if i.top_applicant_chosen:\n",
    "            top_applicants_chosen += 1\n",
    "\n",
    "    top_chosen_percent = top_applicants_chosen / campaigns * 100\n",
    "\n",
    "    return top_applicants_chosen, top_chosen_percent \n",
    "\n"
   ],
   "metadata": {
    "collapsed": false,
    "pycharm": {
     "name": "#%%\n",
     "is_executing": false
    }
   }
  },
  {
   "cell_type": "code",
   "execution_count": 287,
   "outputs": [],
   "source": [
    "def on_button_clicked(b):\n",
    "    main_output.clear_output()\n",
    "    \n",
    "    number_of_campaigns = campaign_slider.value\n",
    "    number_of_applicants = applicant_slider.value\n",
    "\n",
    "    top_chosen, top_percent = run_campaigns(number_of_applicants, number_of_campaigns)\n",
    "\n",
    "    with main_output:\n",
    "        print('')\n",
    "        print('')\n",
    "        print('SUMMARY OF THE RECRUITMENT CAMPAIGNS SIMULATION')\n",
    "        print(f'A total of {number_of_campaigns} campaigns have been simulated.')\n",
    "        print(f'Each campaign had {number_of_applicants} applicants as part of the interview process.')      \n",
    "        print(f'Out of {number_of_campaigns} campaigns, the top ranked applicant was chosen {top_chosen} times.')       \n",
    "        print(f'This means the algorithm chose the best applicant {top_percent:.2f}% of the time.')       \n",
    "             \n",
    "\n",
    "execute_button.on_click(on_button_clicked)\n",
    "\n"
   ],
   "metadata": {
    "collapsed": false,
    "pycharm": {
     "name": "#%%\n",
     "is_executing": false
    }
   }
  }
 ],
 "metadata": {
  "language_info": {
   "codemirror_mode": {
    "name": "ipython",
    "version": 2
   },
   "file_extension": ".py",
   "mimetype": "text/x-python",
   "name": "python",
   "nbconvert_exporter": "python",
   "pygments_lexer": "ipython2",
   "version": "2.7.6"
  },
  "kernelspec": {
   "name": "python3",
   "language": "python",
   "display_name": "Python 3"
  },
  "pycharm": {
   "stem_cell": {
    "cell_type": "raw",
    "source": [],
    "metadata": {
     "collapsed": false
    }
   }
  }
 },
 "nbformat": 4,
 "nbformat_minor": 0
}