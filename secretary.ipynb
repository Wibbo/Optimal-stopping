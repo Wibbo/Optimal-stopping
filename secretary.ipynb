{
 "cells": [
  {
   "cell_type": "code",
   "execution_count": 14,
   "metadata": {
    "pycharm": {
     "is_executing": false,
     "name": "#%%\n"
    }
   },
   "outputs": [
    {
     "data": {
      "text/html": [
       "<script>\n",
       "code_show=true; \n",
       "function code_toggle() {\n",
       " if (code_show){\n",
       " $('div.input').hide();\n",
       " } else {\n",
       " $('div.input').show();\n",
       " }\n",
       " code_show = !code_show\n",
       "} \n",
       "$( document ).ready(code_toggle);\n",
       "</script>\n",
       "<form action=\"javascript:code_toggle()\"><input type=\"submit\" value=\"Click here to toggle on/off the raw code.\"></form>"
      ],
      "text/plain": [
       "<IPython.core.display.HTML object>"
      ]
     },
     "execution_count": 14,
     "metadata": {},
     "output_type": "execute_result"
    }
   ],
   "source": [
    "HTML('''<script>\n",
    "code_show=true; \n",
    "function code_toggle() {\n",
    " if (code_show){\n",
    " $('div.input').hide();\n",
    " } else {\n",
    " $('div.input').show();\n",
    " }\n",
    " code_show = !code_show\n",
    "} \n",
    "$( document ).ready(code_toggle);\n",
    "</script>\n",
    "<form action=\"javascript:code_toggle()\"><input type=\"submit\" value=\"Click here to toggle on/off the raw code.\"></form>''')\n"
   ]
  },
  {
   "cell_type": "code",
   "execution_count": 15,
   "metadata": {
    "pycharm": {
     "is_executing": false,
     "name": "#%%\n"
    }
   },
   "outputs": [],
   "source": [
    "from __future__ import print_function\n",
    "from IPython.display import HTML\n",
    "from ipywidgets import interact, interactive, fixed, interact_manual\n",
    "import ipywidgets as widgets\n",
    "\n",
    "from ApplicantPool import ApplicantPool\n"
   ]
  },
  {
   "cell_type": "markdown",
   "metadata": {
    "collapsed": true,
    "pycharm": {
     "is_executing": false,
     "name": "#%% md\n"
    }
   },
   "source": [
    "## Hiring great data scientists\n",
    "\n",
    "This simulator uses a 'look before leaping' algorithm to try and optimise the process of hiring a great data \n",
    "scientist. There are a number of constraints that apply, the algorithm will:\n",
    "\n",
    "- Allow a configurable number of data scientists to be specified for each interview campaign.\n",
    "- Allow the number of campaigns that are simulated to be specified.\n",
    "- Only rank each applicant with respect to the other candidates that have already been interviewed. \n",
    "- Assign each applicant a number that defines how they are rated in relation to each other. \n",
    "- Randomly order the applicants in each recruitment campaign.\n",
    "- Have no other information about each applicant. It can only relate each of the interviewees to each other.\n",
    "- Must hire an applicant immediately after their interview finishes or accept that they are gone forever. \n",
    "\n"
   ]
  },
  {
   "cell_type": "code",
   "execution_count": 16,
   "metadata": {
    "pycharm": {
     "is_executing": false,
     "name": "#%%\n"
    }
   },
   "outputs": [
    {
     "data": {
      "application/vnd.jupyter.widget-view+json": {
       "model_id": "dfd0641f5eaa4c18b1d6791d9d7d17b5",
       "version_major": 2,
       "version_minor": 0
      },
      "text/plain": [
       "VBox(children=(Label(value='Set the number of campaigns and the applicants in each campaign.'), IntSlider(valu…"
      ]
     },
     "metadata": {},
     "output_type": "display_data"
    }
   ],
   "source": [
    "from ipywidgets import HBox, VBox, Label, IntSlider, Button, Text, Output, RadioButtons\n",
    "\n",
    "verbosity = widgets.RadioButtons(\n",
    "    options=['Summarised output', 'Detailed output'],\n",
    "#     value='pineapple',\n",
    "    description='Output verbosity:',\n",
    "    disabled=False\n",
    ")\n",
    "\n",
    "\n",
    "main_output = Output()\n",
    "settings_label = Label('Set the number of campaigns and the applicants in each campaign.')\n",
    "campaign_slider = IntSlider(min=100, max=1000, step=20,value=200, description='Cycles')\n",
    "applicant_slider = IntSlider(min=20, max=300, step=1,value=30, description='Applicants')\n",
    "execute_button = Button(description='Run the campaigns')\n",
    "VBox([settings_label, campaign_slider, applicant_slider, verbosity, execute_button, main_output])\n"
   ]
  },
  {
   "cell_type": "code",
   "execution_count": 17,
   "metadata": {
    "pycharm": {
     "is_executing": false,
     "name": "#%%\n"
    }
   },
   "outputs": [],
   "source": [
    "def run_campaigns(applicants, campaigns):\n",
    "    \n",
    "    top_applicants_chosen = 0\n",
    "    top_applicant_in_look_phase = 0\n",
    "    \n",
    "    interview_runs = [ApplicantPool(applicants) for count in range(campaigns)]\n",
    "\n",
    "    for i in interview_runs:\n",
    "        if i.top_applicant_chosen:\n",
    "            top_applicants_chosen += 1\n",
    "       \n",
    "\n",
    "    top_chosen_percent = top_applicants_chosen / campaigns * 100\n",
    "\n",
    "    return top_applicants_chosen, top_chosen_percent\n",
    "\n"
   ]
  },
  {
   "cell_type": "code",
   "execution_count": 18,
   "metadata": {
    "pycharm": {
     "is_executing": false,
     "name": "#%%\n"
    }
   },
   "outputs": [
    {
     "ename": "SyntaxError",
     "evalue": "f-string: empty expression not allowed (<ipython-input-18-a75f99df1ef2>, line 17)",
     "output_type": "error",
     "traceback": [
      "\u001b[1;36m  File \u001b[1;32m\"<ipython-input-18-a75f99df1ef2>\"\u001b[1;36m, line \u001b[1;32m17\u001b[0m\n\u001b[1;33m    print(f'During the {number_of_campaigns} campaigns, the look phase contained the top applicant {} times.')\u001b[0m\n\u001b[1;37m         ^\u001b[0m\n\u001b[1;31mSyntaxError\u001b[0m\u001b[1;31m:\u001b[0m f-string: empty expression not allowed\n"
     ]
    }
   ],
   "source": [
    "def on_button_clicked(b):\n",
    "    main_output.clear_output()\n",
    "    \n",
    "    number_of_campaigns = campaign_slider.value\n",
    "    number_of_applicants = applicant_slider.value\n",
    "\n",
    "    top_chosen, top_percent = run_campaigns(number_of_applicants, number_of_campaigns)\n",
    "    with main_output:\n",
    "        print('')\n",
    "        print('')\n",
    "        print('SUMMARY OF THE RECRUITMENT CAMPAIGNS SIMULATION')\n",
    "        print(f'A total of {number_of_campaigns} campaigns have been simulated.')\n",
    "        print(f'Each campaign had {number_of_applicants} applicants as part of the interview process.')      \n",
    "        print(f'Out of {number_of_campaigns} campaigns, the top ranked applicant was chosen {top_chosen} times.')       \n",
    "        print(f'This means the algorithm chose the best applicant {top_percent:.2f}% of the time.')   \n",
    "        \n",
    "        print(f'During the {number_of_campaigns} campaigns, the look phase contained the top applicant {} times.')                \n",
    "\n",
    "execute_button.on_click(on_button_clicked)\n",
    "\n"
   ]
  }
 ],
 "metadata": {
  "kernelspec": {
   "display_name": "Python 3",
   "language": "python",
   "name": "python3"
  },
  "language_info": {
   "codemirror_mode": {
    "name": "ipython",
    "version": 3
   },
   "file_extension": ".py",
   "mimetype": "text/x-python",
   "name": "python",
   "nbconvert_exporter": "python",
   "pygments_lexer": "ipython3",
   "version": "3.7.3"
  },
  "pycharm": {
   "stem_cell": {
    "cell_type": "raw",
    "metadata": {
     "collapsed": false
    },
    "source": []
   }
  }
 },
 "nbformat": 4,
 "nbformat_minor": 1
}
